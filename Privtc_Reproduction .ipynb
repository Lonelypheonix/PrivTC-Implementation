{
  "cells": [
    {
      "cell_type": "markdown",
      "metadata": {
        "id": "s6FOwnrJa4V5"
      },
      "source": [
        "Upload Dataset here"
      ]
    },
    {
      "cell_type": "code",
      "execution_count": null,
      "metadata": {
        "colab": {
          "base_uri": "https://localhost:8080/",
          "height": 73
        },
        "id": "JYKel1QCj9Do",
        "outputId": "fd114e94-7e20-4e77-fcdd-dbf07e6a6b5c"
      },
      "outputs": [
        {
          "data": {
            "text/html": [
              "\n",
              "     <input type=\"file\" id=\"files-165874c4-cab6-431a-8792-a1c3affae44f\" name=\"files[]\" multiple disabled\n",
              "        style=\"border:none\" />\n",
              "     <output id=\"result-165874c4-cab6-431a-8792-a1c3affae44f\">\n",
              "      Upload widget is only available when the cell has been executed in the\n",
              "      current browser session. Please rerun this cell to enable.\n",
              "      </output>\n",
              "      <script>// Copyright 2017 Google LLC\n",
              "//\n",
              "// Licensed under the Apache License, Version 2.0 (the \"License\");\n",
              "// you may not use this file except in compliance with the License.\n",
              "// You may obtain a copy of the License at\n",
              "//\n",
              "//      http://www.apache.org/licenses/LICENSE-2.0\n",
              "//\n",
              "// Unless required by applicable law or agreed to in writing, software\n",
              "// distributed under the License is distributed on an \"AS IS\" BASIS,\n",
              "// WITHOUT WARRANTIES OR CONDITIONS OF ANY KIND, either express or implied.\n",
              "// See the License for the specific language governing permissions and\n",
              "// limitations under the License.\n",
              "\n",
              "/**\n",
              " * @fileoverview Helpers for google.colab Python module.\n",
              " */\n",
              "(function(scope) {\n",
              "function span(text, styleAttributes = {}) {\n",
              "  const element = document.createElement('span');\n",
              "  element.textContent = text;\n",
              "  for (const key of Object.keys(styleAttributes)) {\n",
              "    element.style[key] = styleAttributes[key];\n",
              "  }\n",
              "  return element;\n",
              "}\n",
              "\n",
              "// Max number of bytes which will be uploaded at a time.\n",
              "const MAX_PAYLOAD_SIZE = 100 * 1024;\n",
              "\n",
              "function _uploadFiles(inputId, outputId) {\n",
              "  const steps = uploadFilesStep(inputId, outputId);\n",
              "  const outputElement = document.getElementById(outputId);\n",
              "  // Cache steps on the outputElement to make it available for the next call\n",
              "  // to uploadFilesContinue from Python.\n",
              "  outputElement.steps = steps;\n",
              "\n",
              "  return _uploadFilesContinue(outputId);\n",
              "}\n",
              "\n",
              "// This is roughly an async generator (not supported in the browser yet),\n",
              "// where there are multiple asynchronous steps and the Python side is going\n",
              "// to poll for completion of each step.\n",
              "// This uses a Promise to block the python side on completion of each step,\n",
              "// then passes the result of the previous step as the input to the next step.\n",
              "function _uploadFilesContinue(outputId) {\n",
              "  const outputElement = document.getElementById(outputId);\n",
              "  const steps = outputElement.steps;\n",
              "\n",
              "  const next = steps.next(outputElement.lastPromiseValue);\n",
              "  return Promise.resolve(next.value.promise).then((value) => {\n",
              "    // Cache the last promise value to make it available to the next\n",
              "    // step of the generator.\n",
              "    outputElement.lastPromiseValue = value;\n",
              "    return next.value.response;\n",
              "  });\n",
              "}\n",
              "\n",
              "/**\n",
              " * Generator function which is called between each async step of the upload\n",
              " * process.\n",
              " * @param {string} inputId Element ID of the input file picker element.\n",
              " * @param {string} outputId Element ID of the output display.\n",
              " * @return {!Iterable<!Object>} Iterable of next steps.\n",
              " */\n",
              "function* uploadFilesStep(inputId, outputId) {\n",
              "  const inputElement = document.getElementById(inputId);\n",
              "  inputElement.disabled = false;\n",
              "\n",
              "  const outputElement = document.getElementById(outputId);\n",
              "  outputElement.innerHTML = '';\n",
              "\n",
              "  const pickedPromise = new Promise((resolve) => {\n",
              "    inputElement.addEventListener('change', (e) => {\n",
              "      resolve(e.target.files);\n",
              "    });\n",
              "  });\n",
              "\n",
              "  const cancel = document.createElement('button');\n",
              "  inputElement.parentElement.appendChild(cancel);\n",
              "  cancel.textContent = 'Cancel upload';\n",
              "  const cancelPromise = new Promise((resolve) => {\n",
              "    cancel.onclick = () => {\n",
              "      resolve(null);\n",
              "    };\n",
              "  });\n",
              "\n",
              "  // Wait for the user to pick the files.\n",
              "  const files = yield {\n",
              "    promise: Promise.race([pickedPromise, cancelPromise]),\n",
              "    response: {\n",
              "      action: 'starting',\n",
              "    }\n",
              "  };\n",
              "\n",
              "  cancel.remove();\n",
              "\n",
              "  // Disable the input element since further picks are not allowed.\n",
              "  inputElement.disabled = true;\n",
              "\n",
              "  if (!files) {\n",
              "    return {\n",
              "      response: {\n",
              "        action: 'complete',\n",
              "      }\n",
              "    };\n",
              "  }\n",
              "\n",
              "  for (const file of files) {\n",
              "    const li = document.createElement('li');\n",
              "    li.append(span(file.name, {fontWeight: 'bold'}));\n",
              "    li.append(span(\n",
              "        `(${file.type || 'n/a'}) - ${file.size} bytes, ` +\n",
              "        `last modified: ${\n",
              "            file.lastModifiedDate ? file.lastModifiedDate.toLocaleDateString() :\n",
              "                                    'n/a'} - `));\n",
              "    const percent = span('0% done');\n",
              "    li.appendChild(percent);\n",
              "\n",
              "    outputElement.appendChild(li);\n",
              "\n",
              "    const fileDataPromise = new Promise((resolve) => {\n",
              "      const reader = new FileReader();\n",
              "      reader.onload = (e) => {\n",
              "        resolve(e.target.result);\n",
              "      };\n",
              "      reader.readAsArrayBuffer(file);\n",
              "    });\n",
              "    // Wait for the data to be ready.\n",
              "    let fileData = yield {\n",
              "      promise: fileDataPromise,\n",
              "      response: {\n",
              "        action: 'continue',\n",
              "      }\n",
              "    };\n",
              "\n",
              "    // Use a chunked sending to avoid message size limits. See b/62115660.\n",
              "    let position = 0;\n",
              "    do {\n",
              "      const length = Math.min(fileData.byteLength - position, MAX_PAYLOAD_SIZE);\n",
              "      const chunk = new Uint8Array(fileData, position, length);\n",
              "      position += length;\n",
              "\n",
              "      const base64 = btoa(String.fromCharCode.apply(null, chunk));\n",
              "      yield {\n",
              "        response: {\n",
              "          action: 'append',\n",
              "          file: file.name,\n",
              "          data: base64,\n",
              "        },\n",
              "      };\n",
              "\n",
              "      let percentDone = fileData.byteLength === 0 ?\n",
              "          100 :\n",
              "          Math.round((position / fileData.byteLength) * 100);\n",
              "      percent.textContent = `${percentDone}% done`;\n",
              "\n",
              "    } while (position < fileData.byteLength);\n",
              "  }\n",
              "\n",
              "  // All done.\n",
              "  yield {\n",
              "    response: {\n",
              "      action: 'complete',\n",
              "    }\n",
              "  };\n",
              "}\n",
              "\n",
              "scope.google = scope.google || {};\n",
              "scope.google.colab = scope.google.colab || {};\n",
              "scope.google.colab._files = {\n",
              "  _uploadFiles,\n",
              "  _uploadFilesContinue,\n",
              "};\n",
              "})(self);\n",
              "</script> "
            ],
            "text/plain": [
              "<IPython.core.display.HTML object>"
            ]
          },
          "metadata": {},
          "output_type": "display_data"
        },
        {
          "name": "stdout",
          "output_type": "stream",
          "text": [
            "Saving db_adults.csv to db_adults.csv\n"
          ]
        }
      ],
      "source": [
        "#This code is to upload the data set from local drive into Colab\n",
        "from google.colab import files\n",
        "uploaded = files.upload()"
      ]
    },
    {
      "cell_type": "markdown",
      "metadata": {
        "id": "nOwwcuGccv_Y"
      },
      "source": [
        "Multi-Freq-LDPy is a Python library for performing multiple frequency estimation tasks (one-time, multidimensional, longitudinal, and both) under local differential privacy (LDP) guarantees. The main goal is to provide an easy-to-use and fast execution toolkit to benchmark and experiment with state-of-the-art solutions and LDP protocols.\n"
      ]
    },
    {
      "cell_type": "code",
      "execution_count": null,
      "metadata": {
        "colab": {
          "base_uri": "https://localhost:8080/"
        },
        "id": "qu9n_n3WvTwo",
        "outputId": "8f8e30b2-0091-4529-88dd-df1e4b236093"
      },
      "outputs": [
        {
          "name": "stdout",
          "output_type": "stream",
          "text": [
            "Collecting multi-freq-ldpy\n",
            "  Downloading multi-freq-ldpy-0.2.5.tar.gz (26 kB)\n",
            "  Installing build dependencies ... \u001b[?25l\u001b[?25hdone\n",
            "  Getting requirements to build wheel ... \u001b[?25l\u001b[?25hdone\n",
            "  Installing backend dependencies ... \u001b[?25l\u001b[?25hdone\n",
            "  Preparing metadata (pyproject.toml) ... \u001b[?25l\u001b[?25hdone\n",
            "Requirement already satisfied: numpy in /usr/local/lib/python3.10/dist-packages (from multi-freq-ldpy) (1.23.5)\n",
            "Requirement already satisfied: numba in /usr/local/lib/python3.10/dist-packages (from multi-freq-ldpy) (0.58.1)\n",
            "Requirement already satisfied: xxhash in /usr/local/lib/python3.10/dist-packages (from multi-freq-ldpy) (3.4.1)\n",
            "Requirement already satisfied: llvmlite<0.42,>=0.41.0dev0 in /usr/local/lib/python3.10/dist-packages (from numba->multi-freq-ldpy) (0.41.1)\n",
            "Building wheels for collected packages: multi-freq-ldpy\n",
            "  Building wheel for multi-freq-ldpy (pyproject.toml) ... \u001b[?25l\u001b[?25hdone\n",
            "  Created wheel for multi-freq-ldpy: filename=multi_freq_ldpy-0.2.5-py3-none-any.whl size=46718 sha256=a2ac68eb560a31c8e65e78c430c65f06cc8e36d7538275778d8b4ab4f6f3bf3e\n",
            "  Stored in directory: /root/.cache/pip/wheels/b5/e7/a7/79c888470e994c4a491caa16b9d8b5cbe8dd02b2d4f48e1b11\n",
            "Successfully built multi-freq-ldpy\n",
            "Installing collected packages: multi-freq-ldpy\n",
            "Successfully installed multi-freq-ldpy-0.2.5\n"
          ]
        }
      ],
      "source": [
        "!pip install multi-freq-ldpy"
      ]
    },
    {
      "cell_type": "code",
      "execution_count": null,
      "metadata": {
        "id": "IpDO9Bm8lm5C"
      },
      "outputs": [],
      "source": [
        "import numpy as np\n",
        "import pandas as pd\n",
        "import random\n",
        "import matplotlib.pyplot as plt\n",
        "import matplotlib\n",
        "params = {'axes.titlesize':'14',\n",
        "          'xtick.labelsize':'14',\n",
        "          'ytick.labelsize':'14',\n",
        "          'font.size':'14',\n",
        "          'legend.fontsize':'medium',\n",
        "          'lines.linewidth':'2',\n",
        "          'font.weight':'normal',\n",
        "          'lines.markersize':'10'\n",
        "          }\n",
        "matplotlib.rcParams.update(params)\n",
        "plt.rcParams[\"mathtext.fontset\"] = \"cm\"\n",
        "plt.rc('font', family='serif')\n",
        "\n",
        "import warnings; warnings.simplefilter('ignore')\n",
        "import time\n",
        "from sklearn.metrics import mean_squared_error\n",
        "from sklearn.preprocessing import LabelEncoder\n",
        "\n",
        "from multi_freq_ldpy.pure_frequency_oracles.GRR import GRR_Client, GRR_Aggregator_MI\n",
        "from multi_freq_ldpy.pure_frequency_oracles.UE import UE_Client, UE_Aggregator_MI\n",
        "from multi_freq_ldpy.pure_frequency_oracles.ADP import ADP_Client, ADP_Aggregator_MI\n",
        "from multi_freq_ldpy.pure_frequency_oracles.LH import LH_Client, LH_Aggregator_MI\n",
        "from multi_freq_ldpy.pure_frequency_oracles.SS import SS_Client, SS_Aggregator_MI\n",
        "from multi_freq_ldpy.pure_frequency_oracles.HE import HE_Client, HE_Aggregator_MI"
      ]
    },
    {
      "cell_type": "code",
      "execution_count": null,
      "metadata": {
        "id": "2gILkbBXmKbI"
      },
      "outputs": [],
      "source": [
        "df = pd.read_csv(\"/content/db_adults.csv\", usecols=['age'])"
      ]
    },
    {
      "cell_type": "code",
      "execution_count": null,
      "metadata": {
        "colab": {
          "base_uri": "https://localhost:8080/"
        },
        "id": "VahZBrComZl_",
        "outputId": "98a4d8f5-2e39-4a95-d268-6df51c9c381c"
      },
      "outputs": [
        {
          "name": "stdout",
          "output_type": "stream",
          "text": [
            "(45222, 1)\n"
          ]
        }
      ],
      "source": [
        "print(df.shape)"
      ]
    },
    {
      "cell_type": "code",
      "execution_count": null,
      "metadata": {
        "colab": {
          "base_uri": "https://localhost:8080/",
          "height": 206
        },
        "id": "sAO6Mf3Vm8bR",
        "outputId": "5063030e-1e08-4933-a4e7-5ce9e8c54992"
      },
      "outputs": [
        {
          "data": {
            "text/html": [
              "\n",
              "  <div id=\"df-7079f009-55ab-4999-b46b-58f20895a999\" class=\"colab-df-container\">\n",
              "    <div>\n",
              "<style scoped>\n",
              "    .dataframe tbody tr th:only-of-type {\n",
              "        vertical-align: middle;\n",
              "    }\n",
              "\n",
              "    .dataframe tbody tr th {\n",
              "        vertical-align: top;\n",
              "    }\n",
              "\n",
              "    .dataframe thead th {\n",
              "        text-align: right;\n",
              "    }\n",
              "</style>\n",
              "<table border=\"1\" class=\"dataframe\">\n",
              "  <thead>\n",
              "    <tr style=\"text-align: right;\">\n",
              "      <th></th>\n",
              "      <th>age</th>\n",
              "    </tr>\n",
              "  </thead>\n",
              "  <tbody>\n",
              "    <tr>\n",
              "      <th>0</th>\n",
              "      <td>39</td>\n",
              "    </tr>\n",
              "    <tr>\n",
              "      <th>1</th>\n",
              "      <td>50</td>\n",
              "    </tr>\n",
              "    <tr>\n",
              "      <th>2</th>\n",
              "      <td>38</td>\n",
              "    </tr>\n",
              "    <tr>\n",
              "      <th>3</th>\n",
              "      <td>53</td>\n",
              "    </tr>\n",
              "    <tr>\n",
              "      <th>4</th>\n",
              "      <td>28</td>\n",
              "    </tr>\n",
              "  </tbody>\n",
              "</table>\n",
              "</div>\n",
              "    <div class=\"colab-df-buttons\">\n",
              "\n",
              "  <div class=\"colab-df-container\">\n",
              "    <button class=\"colab-df-convert\" onclick=\"convertToInteractive('df-7079f009-55ab-4999-b46b-58f20895a999')\"\n",
              "            title=\"Convert this dataframe to an interactive table.\"\n",
              "            style=\"display:none;\">\n",
              "\n",
              "  <svg xmlns=\"http://www.w3.org/2000/svg\" height=\"24px\" viewBox=\"0 -960 960 960\">\n",
              "    <path d=\"M120-120v-720h720v720H120Zm60-500h600v-160H180v160Zm220 220h160v-160H400v160Zm0 220h160v-160H400v160ZM180-400h160v-160H180v160Zm440 0h160v-160H620v160ZM180-180h160v-160H180v160Zm440 0h160v-160H620v160Z\"/>\n",
              "  </svg>\n",
              "    </button>\n",
              "\n",
              "  <style>\n",
              "    .colab-df-container {\n",
              "      display:flex;\n",
              "      gap: 12px;\n",
              "    }\n",
              "\n",
              "    .colab-df-convert {\n",
              "      background-color: #E8F0FE;\n",
              "      border: none;\n",
              "      border-radius: 50%;\n",
              "      cursor: pointer;\n",
              "      display: none;\n",
              "      fill: #1967D2;\n",
              "      height: 32px;\n",
              "      padding: 0 0 0 0;\n",
              "      width: 32px;\n",
              "    }\n",
              "\n",
              "    .colab-df-convert:hover {\n",
              "      background-color: #E2EBFA;\n",
              "      box-shadow: 0px 1px 2px rgba(60, 64, 67, 0.3), 0px 1px 3px 1px rgba(60, 64, 67, 0.15);\n",
              "      fill: #174EA6;\n",
              "    }\n",
              "\n",
              "    .colab-df-buttons div {\n",
              "      margin-bottom: 4px;\n",
              "    }\n",
              "\n",
              "    [theme=dark] .colab-df-convert {\n",
              "      background-color: #3B4455;\n",
              "      fill: #D2E3FC;\n",
              "    }\n",
              "\n",
              "    [theme=dark] .colab-df-convert:hover {\n",
              "      background-color: #434B5C;\n",
              "      box-shadow: 0px 1px 3px 1px rgba(0, 0, 0, 0.15);\n",
              "      filter: drop-shadow(0px 1px 2px rgba(0, 0, 0, 0.3));\n",
              "      fill: #FFFFFF;\n",
              "    }\n",
              "  </style>\n",
              "\n",
              "    <script>\n",
              "      const buttonEl =\n",
              "        document.querySelector('#df-7079f009-55ab-4999-b46b-58f20895a999 button.colab-df-convert');\n",
              "      buttonEl.style.display =\n",
              "        google.colab.kernel.accessAllowed ? 'block' : 'none';\n",
              "\n",
              "      async function convertToInteractive(key) {\n",
              "        const element = document.querySelector('#df-7079f009-55ab-4999-b46b-58f20895a999');\n",
              "        const dataTable =\n",
              "          await google.colab.kernel.invokeFunction('convertToInteractive',\n",
              "                                                    [key], {});\n",
              "        if (!dataTable) return;\n",
              "\n",
              "        const docLinkHtml = 'Like what you see? Visit the ' +\n",
              "          '<a target=\"_blank\" href=https://colab.research.google.com/notebooks/data_table.ipynb>data table notebook</a>'\n",
              "          + ' to learn more about interactive tables.';\n",
              "        element.innerHTML = '';\n",
              "        dataTable['output_type'] = 'display_data';\n",
              "        await google.colab.output.renderOutput(dataTable, element);\n",
              "        const docLink = document.createElement('div');\n",
              "        docLink.innerHTML = docLinkHtml;\n",
              "        element.appendChild(docLink);\n",
              "      }\n",
              "    </script>\n",
              "  </div>\n",
              "\n",
              "\n",
              "<div id=\"df-c7d4ceeb-9fe5-4082-b9ec-3301b3da3c2c\">\n",
              "  <button class=\"colab-df-quickchart\" onclick=\"quickchart('df-c7d4ceeb-9fe5-4082-b9ec-3301b3da3c2c')\"\n",
              "            title=\"Suggest charts\"\n",
              "            style=\"display:none;\">\n",
              "\n",
              "<svg xmlns=\"http://www.w3.org/2000/svg\" height=\"24px\"viewBox=\"0 0 24 24\"\n",
              "     width=\"24px\">\n",
              "    <g>\n",
              "        <path d=\"M19 3H5c-1.1 0-2 .9-2 2v14c0 1.1.9 2 2 2h14c1.1 0 2-.9 2-2V5c0-1.1-.9-2-2-2zM9 17H7v-7h2v7zm4 0h-2V7h2v10zm4 0h-2v-4h2v4z\"/>\n",
              "    </g>\n",
              "</svg>\n",
              "  </button>\n",
              "\n",
              "<style>\n",
              "  .colab-df-quickchart {\n",
              "      --bg-color: #E8F0FE;\n",
              "      --fill-color: #1967D2;\n",
              "      --hover-bg-color: #E2EBFA;\n",
              "      --hover-fill-color: #174EA6;\n",
              "      --disabled-fill-color: #AAA;\n",
              "      --disabled-bg-color: #DDD;\n",
              "  }\n",
              "\n",
              "  [theme=dark] .colab-df-quickchart {\n",
              "      --bg-color: #3B4455;\n",
              "      --fill-color: #D2E3FC;\n",
              "      --hover-bg-color: #434B5C;\n",
              "      --hover-fill-color: #FFFFFF;\n",
              "      --disabled-bg-color: #3B4455;\n",
              "      --disabled-fill-color: #666;\n",
              "  }\n",
              "\n",
              "  .colab-df-quickchart {\n",
              "    background-color: var(--bg-color);\n",
              "    border: none;\n",
              "    border-radius: 50%;\n",
              "    cursor: pointer;\n",
              "    display: none;\n",
              "    fill: var(--fill-color);\n",
              "    height: 32px;\n",
              "    padding: 0;\n",
              "    width: 32px;\n",
              "  }\n",
              "\n",
              "  .colab-df-quickchart:hover {\n",
              "    background-color: var(--hover-bg-color);\n",
              "    box-shadow: 0 1px 2px rgba(60, 64, 67, 0.3), 0 1px 3px 1px rgba(60, 64, 67, 0.15);\n",
              "    fill: var(--button-hover-fill-color);\n",
              "  }\n",
              "\n",
              "  .colab-df-quickchart-complete:disabled,\n",
              "  .colab-df-quickchart-complete:disabled:hover {\n",
              "    background-color: var(--disabled-bg-color);\n",
              "    fill: var(--disabled-fill-color);\n",
              "    box-shadow: none;\n",
              "  }\n",
              "\n",
              "  .colab-df-spinner {\n",
              "    border: 2px solid var(--fill-color);\n",
              "    border-color: transparent;\n",
              "    border-bottom-color: var(--fill-color);\n",
              "    animation:\n",
              "      spin 1s steps(1) infinite;\n",
              "  }\n",
              "\n",
              "  @keyframes spin {\n",
              "    0% {\n",
              "      border-color: transparent;\n",
              "      border-bottom-color: var(--fill-color);\n",
              "      border-left-color: var(--fill-color);\n",
              "    }\n",
              "    20% {\n",
              "      border-color: transparent;\n",
              "      border-left-color: var(--fill-color);\n",
              "      border-top-color: var(--fill-color);\n",
              "    }\n",
              "    30% {\n",
              "      border-color: transparent;\n",
              "      border-left-color: var(--fill-color);\n",
              "      border-top-color: var(--fill-color);\n",
              "      border-right-color: var(--fill-color);\n",
              "    }\n",
              "    40% {\n",
              "      border-color: transparent;\n",
              "      border-right-color: var(--fill-color);\n",
              "      border-top-color: var(--fill-color);\n",
              "    }\n",
              "    60% {\n",
              "      border-color: transparent;\n",
              "      border-right-color: var(--fill-color);\n",
              "    }\n",
              "    80% {\n",
              "      border-color: transparent;\n",
              "      border-right-color: var(--fill-color);\n",
              "      border-bottom-color: var(--fill-color);\n",
              "    }\n",
              "    90% {\n",
              "      border-color: transparent;\n",
              "      border-bottom-color: var(--fill-color);\n",
              "    }\n",
              "  }\n",
              "</style>\n",
              "\n",
              "  <script>\n",
              "    async function quickchart(key) {\n",
              "      const quickchartButtonEl =\n",
              "        document.querySelector('#' + key + ' button');\n",
              "      quickchartButtonEl.disabled = true;  // To prevent multiple clicks.\n",
              "      quickchartButtonEl.classList.add('colab-df-spinner');\n",
              "      try {\n",
              "        const charts = await google.colab.kernel.invokeFunction(\n",
              "            'suggestCharts', [key], {});\n",
              "      } catch (error) {\n",
              "        console.error('Error during call to suggestCharts:', error);\n",
              "      }\n",
              "      quickchartButtonEl.classList.remove('colab-df-spinner');\n",
              "      quickchartButtonEl.classList.add('colab-df-quickchart-complete');\n",
              "    }\n",
              "    (() => {\n",
              "      let quickchartButtonEl =\n",
              "        document.querySelector('#df-c7d4ceeb-9fe5-4082-b9ec-3301b3da3c2c button');\n",
              "      quickchartButtonEl.style.display =\n",
              "        google.colab.kernel.accessAllowed ? 'block' : 'none';\n",
              "    })();\n",
              "  </script>\n",
              "</div>\n",
              "\n",
              "    </div>\n",
              "  </div>\n"
            ],
            "text/plain": [
              "   age\n",
              "0   39\n",
              "1   50\n",
              "2   38\n",
              "3   53\n",
              "4   28"
            ]
          },
          "execution_count": 9,
          "metadata": {},
          "output_type": "execute_result"
        }
      ],
      "source": [
        "#print(df.head(3))\n",
        "df.head(5)"
      ]
    },
    {
      "cell_type": "markdown",
      "metadata": {
        "id": "W9-QUAT0nxek"
      },
      "source": [
        "lets take a look the Arguments"
      ]
    },
    {
      "cell_type": "code",
      "execution_count": null,
      "metadata": {
        "colab": {
          "base_uri": "https://localhost:8080/"
        },
        "id": "NhWt3X7xucja",
        "outputId": "f856d600-c25d-425b-a040-87a4ff141d83"
      },
      "outputs": [
        {
          "name": "stdout",
          "output_type": "stream",
          "text": [
            "Epsilon = 1.0\n"
          ]
        }
      ],
      "source": [
        "def setup_args():\n",
        "    args = {\n",
        "        'user_num': 5000,       # the total number of users\n",
        "        'trajectory_len': 6,    # the trajectory length\n",
        "        'x_left': -45.0,        # set the scope of the 2-D geospatial domain\n",
        "        'x_right': 85.0,\n",
        "        'y_left': -160.0,\n",
        "        'y_right': 160.0,\n",
        "        'sigma': 0.2,           # the parameters in guideline\n",
        "        'alpha': 0.02,\n",
        "        'epsilon': 1.0,         # set the privacy budget\n",
        "        'query_region_num': 225,  # 15 * 15 grid for Query MAE\n",
        "        'FP_granularity': 15,     # 15 * 15 grid for FP Similarity\n",
        "        'length_bin_num': 20,     # 20 bins for Distance Error\n",
        "    }\n",
        "\n",
        "    return args\n",
        "\n",
        "# Example usage:\n",
        "args = setup_args()\n",
        "print('Epsilon =' ,args['epsilon'])  # Access individual parameters\n"
      ]
    },
    {
      "cell_type": "markdown",
      "metadata": {
        "id": "63cLreNWdLDj"
      },
      "source": [
        "Lets take an example\n",
        "Let us consider a set of 10 Values. we are going to select one data that is lets say 2. By keeping the epsilon value as 1. We are going to check the different LDP trajectory protocol to find out which is the best one.\n",
        "Conclusion:\n",
        "we can see that OLH and OUE gives similar privacy guarantee"
      ]
    },
    {
      "cell_type": "code",
      "execution_count": null,
      "metadata": {
        "colab": {
          "base_uri": "https://localhost:8080/"
        },
        "id": "ycp4gya5vhVe",
        "outputId": "d37e0f61-45e4-4df9-93b4-a534a0b738b2"
      },
      "outputs": [
        {
          "name": "stdout",
          "output_type": "stream",
          "text": [
            "Real value: 2\n",
            "Sanitization w/ GRR protocol: 8\n",
            "Sanitization w/ OUE protocol: [0. 0. 0. 0. 1. 0. 1. 0. 1. 1.]\n",
            "Sanitization w/ OLH protocol: (1, 1801120179382175332)\n",
            "Sanitization w/ SS protocol: [2 6 3]\n",
            "Sanitization w/ HE protocol: [ 0.53295414  4.82137088  0.17600328 -1.22937244  2.00228177 -4.88503628\n",
            "  1.13554785 -0.58973623 -0.51029723 -1.96815293]\n"
          ]
        }
      ],
      "source": [
        "z = 10 # number of values\n",
        "input_data = 2 # real input value\n",
        "eps = 1 # privacy guarantee\n",
        "\n",
        "print('Real value:', input_data)\n",
        "print('Sanitization w/ GRR protocol:', GRR_Client(input_data, z, eps))\n",
        "print('Sanitization w/ OUE protocol:', UE_Client(input_data, z, eps, optimal=True))\n",
        "print('Sanitization w/ OLH protocol:', LH_Client(input_data, z, eps, optimal=True)) # sanitized value, seed used to hash\n",
        "print('Sanitization w/ SS protocol:', SS_Client(input_data, z, eps)) # set of sanitized values\n",
        "print('Sanitization w/ HE protocol:', HE_Client(input_data, z, eps)) # histogram with Laplace noise"
      ]
    },
    {
      "cell_type": "markdown",
      "metadata": {
        "id": "J02kKLb3lxtS"
      },
      "source": [
        "Encoding the dataset"
      ]
    },
    {
      "cell_type": "code",
      "execution_count": null,
      "metadata": {
        "colab": {
          "base_uri": "https://localhost:8080/",
          "height": 206
        },
        "id": "eu2n6jnYu0Qn",
        "outputId": "bcb91e8d-c20e-43ff-d81a-3594786d33a4"
      },
      "outputs": [
        {
          "data": {
            "text/html": [
              "\n",
              "  <div id=\"df-2521ef9b-0d97-4076-aa87-ec73a3d3f17b\" class=\"colab-df-container\">\n",
              "    <div>\n",
              "<style scoped>\n",
              "    .dataframe tbody tr th:only-of-type {\n",
              "        vertical-align: middle;\n",
              "    }\n",
              "\n",
              "    .dataframe tbody tr th {\n",
              "        vertical-align: top;\n",
              "    }\n",
              "\n",
              "    .dataframe thead th {\n",
              "        text-align: right;\n",
              "    }\n",
              "</style>\n",
              "<table border=\"1\" class=\"dataframe\">\n",
              "  <thead>\n",
              "    <tr style=\"text-align: right;\">\n",
              "      <th></th>\n",
              "      <th>age</th>\n",
              "    </tr>\n",
              "  </thead>\n",
              "  <tbody>\n",
              "    <tr>\n",
              "      <th>0</th>\n",
              "      <td>22</td>\n",
              "    </tr>\n",
              "    <tr>\n",
              "      <th>1</th>\n",
              "      <td>33</td>\n",
              "    </tr>\n",
              "    <tr>\n",
              "      <th>2</th>\n",
              "      <td>21</td>\n",
              "    </tr>\n",
              "    <tr>\n",
              "      <th>3</th>\n",
              "      <td>36</td>\n",
              "    </tr>\n",
              "    <tr>\n",
              "      <th>4</th>\n",
              "      <td>11</td>\n",
              "    </tr>\n",
              "  </tbody>\n",
              "</table>\n",
              "</div>\n",
              "    <div class=\"colab-df-buttons\">\n",
              "\n",
              "  <div class=\"colab-df-container\">\n",
              "    <button class=\"colab-df-convert\" onclick=\"convertToInteractive('df-2521ef9b-0d97-4076-aa87-ec73a3d3f17b')\"\n",
              "            title=\"Convert this dataframe to an interactive table.\"\n",
              "            style=\"display:none;\">\n",
              "\n",
              "  <svg xmlns=\"http://www.w3.org/2000/svg\" height=\"24px\" viewBox=\"0 -960 960 960\">\n",
              "    <path d=\"M120-120v-720h720v720H120Zm60-500h600v-160H180v160Zm220 220h160v-160H400v160Zm0 220h160v-160H400v160ZM180-400h160v-160H180v160Zm440 0h160v-160H620v160ZM180-180h160v-160H180v160Zm440 0h160v-160H620v160Z\"/>\n",
              "  </svg>\n",
              "    </button>\n",
              "\n",
              "  <style>\n",
              "    .colab-df-container {\n",
              "      display:flex;\n",
              "      gap: 12px;\n",
              "    }\n",
              "\n",
              "    .colab-df-convert {\n",
              "      background-color: #E8F0FE;\n",
              "      border: none;\n",
              "      border-radius: 50%;\n",
              "      cursor: pointer;\n",
              "      display: none;\n",
              "      fill: #1967D2;\n",
              "      height: 32px;\n",
              "      padding: 0 0 0 0;\n",
              "      width: 32px;\n",
              "    }\n",
              "\n",
              "    .colab-df-convert:hover {\n",
              "      background-color: #E2EBFA;\n",
              "      box-shadow: 0px 1px 2px rgba(60, 64, 67, 0.3), 0px 1px 3px 1px rgba(60, 64, 67, 0.15);\n",
              "      fill: #174EA6;\n",
              "    }\n",
              "\n",
              "    .colab-df-buttons div {\n",
              "      margin-bottom: 4px;\n",
              "    }\n",
              "\n",
              "    [theme=dark] .colab-df-convert {\n",
              "      background-color: #3B4455;\n",
              "      fill: #D2E3FC;\n",
              "    }\n",
              "\n",
              "    [theme=dark] .colab-df-convert:hover {\n",
              "      background-color: #434B5C;\n",
              "      box-shadow: 0px 1px 3px 1px rgba(0, 0, 0, 0.15);\n",
              "      filter: drop-shadow(0px 1px 2px rgba(0, 0, 0, 0.3));\n",
              "      fill: #FFFFFF;\n",
              "    }\n",
              "  </style>\n",
              "\n",
              "    <script>\n",
              "      const buttonEl =\n",
              "        document.querySelector('#df-2521ef9b-0d97-4076-aa87-ec73a3d3f17b button.colab-df-convert');\n",
              "      buttonEl.style.display =\n",
              "        google.colab.kernel.accessAllowed ? 'block' : 'none';\n",
              "\n",
              "      async function convertToInteractive(key) {\n",
              "        const element = document.querySelector('#df-2521ef9b-0d97-4076-aa87-ec73a3d3f17b');\n",
              "        const dataTable =\n",
              "          await google.colab.kernel.invokeFunction('convertToInteractive',\n",
              "                                                    [key], {});\n",
              "        if (!dataTable) return;\n",
              "\n",
              "        const docLinkHtml = 'Like what you see? Visit the ' +\n",
              "          '<a target=\"_blank\" href=https://colab.research.google.com/notebooks/data_table.ipynb>data table notebook</a>'\n",
              "          + ' to learn more about interactive tables.';\n",
              "        element.innerHTML = '';\n",
              "        dataTable['output_type'] = 'display_data';\n",
              "        await google.colab.output.renderOutput(dataTable, element);\n",
              "        const docLink = document.createElement('div');\n",
              "        docLink.innerHTML = docLinkHtml;\n",
              "        element.appendChild(docLink);\n",
              "      }\n",
              "    </script>\n",
              "  </div>\n",
              "\n",
              "\n",
              "<div id=\"df-174ec963-b989-4270-8c18-3542c8b87462\">\n",
              "  <button class=\"colab-df-quickchart\" onclick=\"quickchart('df-174ec963-b989-4270-8c18-3542c8b87462')\"\n",
              "            title=\"Suggest charts\"\n",
              "            style=\"display:none;\">\n",
              "\n",
              "<svg xmlns=\"http://www.w3.org/2000/svg\" height=\"24px\"viewBox=\"0 0 24 24\"\n",
              "     width=\"24px\">\n",
              "    <g>\n",
              "        <path d=\"M19 3H5c-1.1 0-2 .9-2 2v14c0 1.1.9 2 2 2h14c1.1 0 2-.9 2-2V5c0-1.1-.9-2-2-2zM9 17H7v-7h2v7zm4 0h-2V7h2v10zm4 0h-2v-4h2v4z\"/>\n",
              "    </g>\n",
              "</svg>\n",
              "  </button>\n",
              "\n",
              "<style>\n",
              "  .colab-df-quickchart {\n",
              "      --bg-color: #E8F0FE;\n",
              "      --fill-color: #1967D2;\n",
              "      --hover-bg-color: #E2EBFA;\n",
              "      --hover-fill-color: #174EA6;\n",
              "      --disabled-fill-color: #AAA;\n",
              "      --disabled-bg-color: #DDD;\n",
              "  }\n",
              "\n",
              "  [theme=dark] .colab-df-quickchart {\n",
              "      --bg-color: #3B4455;\n",
              "      --fill-color: #D2E3FC;\n",
              "      --hover-bg-color: #434B5C;\n",
              "      --hover-fill-color: #FFFFFF;\n",
              "      --disabled-bg-color: #3B4455;\n",
              "      --disabled-fill-color: #666;\n",
              "  }\n",
              "\n",
              "  .colab-df-quickchart {\n",
              "    background-color: var(--bg-color);\n",
              "    border: none;\n",
              "    border-radius: 50%;\n",
              "    cursor: pointer;\n",
              "    display: none;\n",
              "    fill: var(--fill-color);\n",
              "    height: 32px;\n",
              "    padding: 0;\n",
              "    width: 32px;\n",
              "  }\n",
              "\n",
              "  .colab-df-quickchart:hover {\n",
              "    background-color: var(--hover-bg-color);\n",
              "    box-shadow: 0 1px 2px rgba(60, 64, 67, 0.3), 0 1px 3px 1px rgba(60, 64, 67, 0.15);\n",
              "    fill: var(--button-hover-fill-color);\n",
              "  }\n",
              "\n",
              "  .colab-df-quickchart-complete:disabled,\n",
              "  .colab-df-quickchart-complete:disabled:hover {\n",
              "    background-color: var(--disabled-bg-color);\n",
              "    fill: var(--disabled-fill-color);\n",
              "    box-shadow: none;\n",
              "  }\n",
              "\n",
              "  .colab-df-spinner {\n",
              "    border: 2px solid var(--fill-color);\n",
              "    border-color: transparent;\n",
              "    border-bottom-color: var(--fill-color);\n",
              "    animation:\n",
              "      spin 1s steps(1) infinite;\n",
              "  }\n",
              "\n",
              "  @keyframes spin {\n",
              "    0% {\n",
              "      border-color: transparent;\n",
              "      border-bottom-color: var(--fill-color);\n",
              "      border-left-color: var(--fill-color);\n",
              "    }\n",
              "    20% {\n",
              "      border-color: transparent;\n",
              "      border-left-color: var(--fill-color);\n",
              "      border-top-color: var(--fill-color);\n",
              "    }\n",
              "    30% {\n",
              "      border-color: transparent;\n",
              "      border-left-color: var(--fill-color);\n",
              "      border-top-color: var(--fill-color);\n",
              "      border-right-color: var(--fill-color);\n",
              "    }\n",
              "    40% {\n",
              "      border-color: transparent;\n",
              "      border-right-color: var(--fill-color);\n",
              "      border-top-color: var(--fill-color);\n",
              "    }\n",
              "    60% {\n",
              "      border-color: transparent;\n",
              "      border-right-color: var(--fill-color);\n",
              "    }\n",
              "    80% {\n",
              "      border-color: transparent;\n",
              "      border-right-color: var(--fill-color);\n",
              "      border-bottom-color: var(--fill-color);\n",
              "    }\n",
              "    90% {\n",
              "      border-color: transparent;\n",
              "      border-bottom-color: var(--fill-color);\n",
              "    }\n",
              "  }\n",
              "</style>\n",
              "\n",
              "  <script>\n",
              "    async function quickchart(key) {\n",
              "      const quickchartButtonEl =\n",
              "        document.querySelector('#' + key + ' button');\n",
              "      quickchartButtonEl.disabled = true;  // To prevent multiple clicks.\n",
              "      quickchartButtonEl.classList.add('colab-df-spinner');\n",
              "      try {\n",
              "        const charts = await google.colab.kernel.invokeFunction(\n",
              "            'suggestCharts', [key], {});\n",
              "      } catch (error) {\n",
              "        console.error('Error during call to suggestCharts:', error);\n",
              "      }\n",
              "      quickchartButtonEl.classList.remove('colab-df-spinner');\n",
              "      quickchartButtonEl.classList.add('colab-df-quickchart-complete');\n",
              "    }\n",
              "    (() => {\n",
              "      let quickchartButtonEl =\n",
              "        document.querySelector('#df-174ec963-b989-4270-8c18-3542c8b87462 button');\n",
              "      quickchartButtonEl.style.display =\n",
              "        google.colab.kernel.accessAllowed ? 'block' : 'none';\n",
              "    })();\n",
              "  </script>\n",
              "</div>\n",
              "\n",
              "    </div>\n",
              "  </div>\n"
            ],
            "text/plain": [
              "   age\n",
              "0   22\n",
              "1   33\n",
              "2   21\n",
              "3   36\n",
              "4   11"
            ]
          },
          "execution_count": 10,
          "metadata": {},
          "output_type": "execute_result"
        }
      ],
      "source": [
        "LE = LabelEncoder()\n",
        "\n",
        "df['age'] = LE.fit_transform(df['age'])\n",
        "df.head(5)"
      ]
    },
    {
      "cell_type": "code",
      "execution_count": null,
      "metadata": {
        "colab": {
          "base_uri": "https://localhost:8080/"
        },
        "id": "U9J04tmsu089",
        "outputId": "bc341e1c-9abd-456e-b008-7fb61cb2b149"
      },
      "outputs": [
        {
          "name": "stdout",
          "output_type": "stream",
          "text": [
            "Number of Users = 45222\n",
            "\n",
            "Attribute's domain size = 74\n",
            "\n",
            "Privacy guarantees:\n",
            "Epsilon values = [0.5 1.  1.5 2.  2.5 3.  3.5 4.  4.5 5. ]\n"
          ]
        }
      ],
      "source": [
        "# number of users (n)\n",
        "n = df.shape[0]\n",
        "print('Number of Users =',n)\n",
        "\n",
        "# attribute's domain size\n",
        "k = len(set(df['age']))\n",
        "print(\"\\nAttribute's domain size =\", k)\n",
        "\n",
        "print(\"\\nPrivacy guarantees:\")\n",
        "\n",
        "# range of epsilon\n",
        "lst_eps = np.arange(0.5, 5.1, 0.5)\n",
        "print('Epsilon values =', lst_eps)"
      ]
    },
    {
      "cell_type": "markdown",
      "metadata": {
        "id": "C5TE32_Wl2Id"
      },
      "source": [
        "LDP trajectory protocols"
      ]
    },
    {
      "cell_type": "code",
      "execution_count": null,
      "metadata": {
        "colab": {
          "background_save": true,
          "base_uri": "https://localhost:8080/"
        },
        "id": "Os0BDp4Gzf9-",
        "outputId": "86f71564-060b-4bec-b996-163ac86cf6c5"
      },
      "outputs": [
        {
          "name": "stdout",
          "output_type": "stream",
          "text": [
            "Starting w/ seed: 0\n",
            "Starting w/ seed: 1\n",
            "Starting w/ seed: 2\n",
            "Starting w/ seed: 3\n",
            "Starting w/ seed: 4\n",
            "Starting w/ seed: 5\n",
            "Starting w/ seed: 6\n",
            "Starting w/ seed: 7\n",
            "Starting w/ seed: 8\n",
            "Starting w/ seed: 9\n",
            "Starting w/ seed: 10\n",
            "Starting w/ seed: 11\n",
            "Starting w/ seed: 12\n",
            "Starting w/ seed: 13\n",
            "Starting w/ seed: 14\n",
            "Starting w/ seed: 15\n",
            "Starting w/ seed: 16\n",
            "Starting w/ seed: 17\n",
            "Starting w/ seed: 18\n",
            "Starting w/ seed: 19\n",
            "That took 1697.99253988266 seconds\n"
          ]
        }
      ],
      "source": [
        "# Real normalized frequency\n",
        "real_freq = np.unique(df, return_counts=True)[-1] / n\n",
        "\n",
        "# Repeat nb_seed times since DP protocols are randomized\n",
        "nb_seed = 20\n",
        "\n",
        "# Save Mean Squared Error (MSE) between real and estimated frequencies per seed\n",
        "dic_mse = {seed:\n",
        "               {\n",
        "                \"SUE\": [],\n",
        "                \"OUE\": [],\n",
        "                \"BLH\": [],\n",
        "                \"OLH\": [],\n",
        "                \"SHE\": []\n",
        "               }\n",
        "               for seed in range(nb_seed)\n",
        "          }\n",
        "\n",
        "starttime = time.time()\n",
        "for seed in range(nb_seed):\n",
        "    print('Starting w/ seed:', seed)\n",
        "\n",
        "    for eps in lst_eps:\n",
        "\n",
        "\n",
        "        # SUE protocol\n",
        "        sue_reports = [UE_Client(input_data, k, eps, optimal=False) for input_data in df['age']]\n",
        "        sue_est_freq = UE_Aggregator_MI(sue_reports, eps, optimal=False)\n",
        "        dic_mse[seed][\"SUE\"].append(mean_squared_error(real_freq, sue_est_freq))\n",
        "\n",
        "        # OUE protocol\n",
        "        oue_reports = [UE_Client(input_data, k, eps, optimal=True) for input_data in df['age']]\n",
        "        oue_est_freq = UE_Aggregator_MI(oue_reports, eps, optimal=True)\n",
        "        dic_mse[seed][\"OUE\"].append(mean_squared_error(real_freq, oue_est_freq))\n",
        "\n",
        "        # BLH protocol\n",
        "        blh_reports = [LH_Client(input_data, k, eps, optimal=False) for input_data in df['age']]\n",
        "        blh_est_freq = LH_Aggregator_MI(blh_reports, k, eps, optimal=False)\n",
        "        dic_mse[seed][\"BLH\"].append(mean_squared_error(real_freq, blh_est_freq))\n",
        "\n",
        "        # OLH protocol\n",
        "        olh_reports = [LH_Client(input_data, k, eps, optimal=True) for input_data in df['age']]\n",
        "        olh_est_freq = LH_Aggregator_MI(olh_reports, k, eps, optimal=True)\n",
        "        dic_mse[seed][\"OLH\"].append(mean_squared_error(real_freq, olh_est_freq))\n",
        "\n",
        "\n",
        "        # SHE protocol\n",
        "        he_reports = [HE_Client(input_data, k, eps) for input_data in df['age']]\n",
        "        she_est_freq = HE_Aggregator_MI(he_reports, k, eps, use_thresh=False)\n",
        "        dic_mse[seed][\"SHE\"].append(mean_squared_error(real_freq, she_est_freq))\n",
        "\n",
        "\n",
        "print('That took {} seconds'.format(time.time() - starttime))"
      ]
    },
    {
      "cell_type": "code",
      "execution_count": 13,
      "metadata": {
        "colab": {
          "base_uri": "https://localhost:8080/",
          "height": 473
        },
        "id": "6jkW3BvH07Xm",
        "outputId": "074b2ce6-787b-4ad7-c90a-9234e69706cb"
      },
      "outputs": [
        {
          "output_type": "display_data",
          "data": {
            "text/plain": [
              "<Figure size 800x500 with 1 Axes>"
            ],
            "image/png": "[encoded data removed]"
          },
          "metadata": {}
        }
      ],
      "source": [
        "plt.figure(figsize=(8,5))\n",
        "plt.grid(color='grey', linestyle='dashdot', linewidth=0.5)\n",
        "#plt.plot(np.mean([dic_mse[seed][\"GRR\"] for seed in range(nb_seed)], axis=0), label='GRR', marker='o')\n",
        "#plt.plot(np.mean([dic_mse[seed][\"SS\"] for seed in range(nb_seed)], axis=0), label='SS',marker='X',linestyle=(0, (1, 10)))\n",
        "plt.plot(np.mean([dic_mse[seed][\"SUE\"] for seed in range(nb_seed)], axis=0), label='SUE',marker='>',linestyle='dashed')\n",
        "plt.plot(np.mean([dic_mse[seed][\"OUE\"] for seed in range(nb_seed)], axis=0), label='OUE',marker='s',linestyle='dotted')\n",
        "plt.plot(np.mean([dic_mse[seed][\"BLH\"] for seed in range(nb_seed)], axis=0), label='BLH', marker='D', linestyle='dashdot')\n",
        "plt.plot(np.mean([dic_mse[seed][\"OLH\"] for seed in range(nb_seed)], axis=0), label='OLH',marker='d',linestyle=(0, (5, 10)))\n",
        "plt.plot(np.mean([dic_mse[seed][\"SHE\"] for seed in range(nb_seed)], axis=0), label='SHE',marker='X',linestyle=(0, (3, 1, 1, 1, 1, 1)))\n",
        "\n",
        "plt.yscale('log')\n",
        "plt.xlabel('$\\epsilon$')\n",
        "plt.ylabel('Mean Squared Error (MSE)')\n",
        "plt.xticks(range(len(lst_eps)), lst_eps)\n",
        "plt.legend(ncol=2)\n",
        "plt.show()"
      ]
    },
    {
      "cell_type": "markdown",
      "metadata": {
        "id": "97-xBHn3q4ys"
      },
      "source": [
        "Clone the github repository"
      ]
    },
    {
      "cell_type": "code",
      "execution_count": null,
      "metadata": {
        "colab": {
          "base_uri": "https://localhost:8080/"
        },
        "id": "LYUhgsXLV2Qj",
        "outputId": "5c225820-818f-4d82-f793-6f1af327fb94"
      },
      "outputs": [
        {
          "name": "stdout",
          "output_type": "stream",
          "text": [
            "Cloning into 'PrivTC-Implementation'...\n",
            "remote: Enumerating objects: 69, done.\u001b[K\n",
            "remote: Counting objects: 100% (69/69), done.\u001b[K\n",
            "remote: Compressing objects: 100% (64/64), done.\u001b[K\n",
            "remote: Total 69 (delta 14), reused 0 (delta 0), pack-reused 0\u001b[K\n",
            "Receiving objects: 100% (69/69), 346.34 KiB | 2.15 MiB/s, done.\n",
            "Resolving deltas: 100% (14/14), done.\n"
          ]
        }
      ],
      "source": [
        "!git clone https://github.com/Lonelypheonix/PrivTC-Implementation.git"
      ]
    },
    {
      "cell_type": "code",
      "execution_count": null,
      "metadata": {
        "colab": {
          "base_uri": "https://localhost:8080/"
        },
        "id": "fnpRUds_YPNI",
        "outputId": "e99893ed-5eff-44d9-ffc6-f9618fca667a"
      },
      "outputs": [
        {
          "name": "stdout",
          "output_type": "stream",
          "text": [
            "/content/PrivTC-Implementation/Code\n"
          ]
        }
      ],
      "source": [
        "%cd /content/PrivTC-Implementation/Code/"
      ]
    },
    {
      "cell_type": "markdown",
      "metadata": {
        "id": "MJsl3C9grCDd"
      },
      "source": [
        "PrivTc Under epsilon 1"
      ]
    },
    {
      "cell_type": "code",
      "execution_count": null,
      "metadata": {
        "colab": {
          "base_uri": "https://localhost:8080/"
        },
        "id": "cMTAUqWBYcyt",
        "outputId": "14be4ec4-4667-4b0c-cd1c-435831572e82"
      },
      "outputs": [
        {
          "name": "stdout",
          "output_type": "stream",
          "text": [
            "PrivTC starts...\n",
            "PrivTC ends!\n",
            "\n",
            "The results are: \n",
            "Query MAE: 0.006429037037037037\n",
            "FP similarity: 0\n",
            "Distance Error: 0.9882915830689873\n",
            "That took 4.124042510986328 seconds\n"
          ]
        }
      ],
      "source": [
        "%run Privtc.py"
      ]
    },
    {
      "cell_type": "markdown",
      "metadata": {
        "id": "6Bc3PcfurJBG"
      },
      "source": [
        "Privtc For a range of Epsilon"
      ]
    },
    {
      "cell_type": "code",
      "execution_count": null,
      "metadata": {
        "colab": {
          "base_uri": "https://localhost:8080/",
          "height": 1000
        },
        "id": "d4nga0_EagrA",
        "outputId": "e4d2cdae-d06b-4d3b-f688-6d15c5ba3088"
      },
      "outputs": [
        {
          "name": "stdout",
          "output_type": "stream",
          "text": [
            "\n",
            "PrivTC starts for Epsilon=0.5...\n",
            "PrivTC ends!\n",
            "Query MAE (Epsilon=0.5): 0.007319703703703703\n",
            "FP Similarity (Epsilon=0.5): 0.01\n",
            "Distance Error (Epsilon=0.5): 0.9914073449699317\n",
            "\n",
            "PrivTC starts for Epsilon=1.0...\n",
            "PrivTC ends!\n",
            "Query MAE (Epsilon=1.0): 0.008724740740740741\n",
            "FP Similarity (Epsilon=1.0): 0.01\n",
            "Distance Error (Epsilon=1.0): 0.9801078750375605\n",
            "\n",
            "PrivTC starts for Epsilon=1.5...\n",
            "PrivTC ends!\n",
            "Query MAE (Epsilon=1.5): 0.006308740740740741\n",
            "FP Similarity (Epsilon=1.5): 0.20999999999999996\n",
            "Distance Error (Epsilon=1.5): 0.9576698073517309\n",
            "\n",
            "PrivTC starts for Epsilon=2.0...\n",
            "PrivTC ends!\n",
            "Query MAE (Epsilon=2.0): 0.006808888888888889\n",
            "FP Similarity (Epsilon=2.0): 0.04\n",
            "Distance Error (Epsilon=2.0): 0.973542832408913\n",
            "\n",
            "PrivTC starts for Epsilon=2.5...\n",
            "PrivTC ends!\n",
            "Query MAE (Epsilon=2.5): 0.005856\n",
            "FP Similarity (Epsilon=2.5): 0.25\n",
            "Distance Error (Epsilon=2.5): 0.948547404262192\n",
            "\n",
            "PrivTC starts for Epsilon=3.0...\n",
            "PrivTC ends!\n",
            "Query MAE (Epsilon=3.0): 0.004646222222222223\n",
            "FP Similarity (Epsilon=3.0): 0.4000000000000001\n",
            "Distance Error (Epsilon=3.0): 0.9438641253129991\n",
            "\n",
            "PrivTC starts for Epsilon=3.5...\n",
            "PrivTC ends!\n",
            "Query MAE (Epsilon=3.5): 0.004960000000000001\n",
            "FP Similarity (Epsilon=3.5): 0.37\n",
            "Distance Error (Epsilon=3.5): 0.9333654343753925\n",
            "\n",
            "PrivTC starts for Epsilon=4.0...\n",
            "PrivTC ends!\n",
            "Query MAE (Epsilon=4.0): 0.0046512592592592595\n",
            "FP Similarity (Epsilon=4.0): 0.34\n",
            "Distance Error (Epsilon=4.0): 0.9330351545696688\n",
            "\n",
            "PrivTC starts for Epsilon=4.5...\n",
            "PrivTC ends!\n",
            "Query MAE (Epsilon=4.5): 0.002944\n",
            "FP Similarity (Epsilon=4.5): 0.41999999999999993\n",
            "Distance Error (Epsilon=4.5): 0.8801248264170244\n",
            "\n",
            "PrivTC starts for Epsilon=5.0...\n",
            "PrivTC ends!\n",
            "Query MAE (Epsilon=5.0): 0.0031451851851851853\n",
            "FP Similarity (Epsilon=5.0): 0.45\n",
            "Distance Error (Epsilon=5.0): 0.8778711374541479\n"
          ]
        },
        {
          "data": {
            "image/png": "[encoded data removed]",
            "text/plain": [
              "<Figure size 800x500 with 3 Axes>"
            ]
          },
          "metadata": {},
          "output_type": "display_data"
        },
        {
          "name": "stdout",
          "output_type": "stream",
          "text": [
            "That took 1464.3505840301514 seconds\n"
          ]
        },
        {
          "data": {
            "text/plain": [
              "<Figure size 640x480 with 0 Axes>"
            ]
          },
          "metadata": {},
          "output_type": "display_data"
        }
      ],
      "source": [
        "%run Privtc_eps.py"
      ]
    }
  ],
  "metadata": {
    "colab": {
      "provenance": []
    },
    "kernelspec": {
      "display_name": "Python 3",
      "name": "python3"
    },
    "language_info": {
      "name": "python"
    }
  },
  "nbformat": 4,
  "nbformat_minor": 0
}